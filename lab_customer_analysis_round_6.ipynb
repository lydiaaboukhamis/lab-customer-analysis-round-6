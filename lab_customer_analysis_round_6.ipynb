{
 "cells": [
  {
   "cell_type": "code",
   "execution_count": 1,
   "id": "62786ec8",
   "metadata": {},
   "outputs": [],
   "source": [
    "# Relevant Libraries\n",
    "import pandas as pd\n",
    "import numpy as np\n",
    "import matplotlib.pyplot as plt\n",
    "import seaborn as sns\n",
    "from scipy import stats\n",
    "from sklearn.preprocessing import Normalizer\n",
    "from sklearn.preprocessing import StandardScaler\n",
    "from sklearn.preprocessing import OneHotEncoder\n",
    "from sklearn.model_selection import train_test_split\n",
    "from sklearn.linear_model import LinearRegression\n",
    "from sklearn.metrics import r2_score, mean_squared_error\n",
    "\n",
    "import warnings\n",
    "warnings.filterwarnings('ignore')\n"
   ]
  },
  {
   "cell_type": "code",
   "execution_count": 2,
   "id": "e5d3bbb6",
   "metadata": {},
   "outputs": [],
   "source": [
    "pd.set_option('display.max_columns', None) "
   ]
  },
  {
   "cell_type": "code",
   "execution_count": 3,
   "id": "f5d37c5a",
   "metadata": {},
   "outputs": [],
   "source": [
    "data=pd.read_csv('./data/marketing_customer_analysis.csv')"
   ]
  },
  {
   "cell_type": "code",
   "execution_count": 4,
   "id": "e327c273",
   "metadata": {},
   "outputs": [],
   "source": [
    "def clean_data(data):\n",
    "    data.columns=[e.lower().replace(' ', '_') for e in data.columns]\n",
    "    data=data.drop(columns=['unnamed:_0', 'vehicle_type'])\n",
    "    data=data.dropna()\n",
    "    data['effective_to_date']=pd.to_datetime(data['effective_to_date'], errors='coerce')\n",
    "    return data"
   ]
  },
  {
   "cell_type": "code",
   "execution_count": 5,
   "id": "6bb7962c",
   "metadata": {
    "scrolled": false
   },
   "outputs": [
    {
     "data": {
      "text/html": [
       "<div>\n",
       "<style scoped>\n",
       "    .dataframe tbody tr th:only-of-type {\n",
       "        vertical-align: middle;\n",
       "    }\n",
       "\n",
       "    .dataframe tbody tr th {\n",
       "        vertical-align: top;\n",
       "    }\n",
       "\n",
       "    .dataframe thead th {\n",
       "        text-align: right;\n",
       "    }\n",
       "</style>\n",
       "<table border=\"1\" class=\"dataframe\">\n",
       "  <thead>\n",
       "    <tr style=\"text-align: right;\">\n",
       "      <th></th>\n",
       "      <th>customer</th>\n",
       "      <th>state</th>\n",
       "      <th>customer_lifetime_value</th>\n",
       "      <th>response</th>\n",
       "      <th>coverage</th>\n",
       "      <th>education</th>\n",
       "      <th>effective_to_date</th>\n",
       "      <th>employmentstatus</th>\n",
       "      <th>gender</th>\n",
       "      <th>income</th>\n",
       "      <th>location_code</th>\n",
       "      <th>marital_status</th>\n",
       "      <th>monthly_premium_auto</th>\n",
       "      <th>months_since_last_claim</th>\n",
       "      <th>months_since_policy_inception</th>\n",
       "      <th>number_of_open_complaints</th>\n",
       "      <th>number_of_policies</th>\n",
       "      <th>policy_type</th>\n",
       "      <th>policy</th>\n",
       "      <th>renew_offer_type</th>\n",
       "      <th>sales_channel</th>\n",
       "      <th>total_claim_amount</th>\n",
       "      <th>vehicle_class</th>\n",
       "      <th>vehicle_size</th>\n",
       "    </tr>\n",
       "  </thead>\n",
       "  <tbody>\n",
       "    <tr>\n",
       "      <th>0</th>\n",
       "      <td>DK49336</td>\n",
       "      <td>Arizona</td>\n",
       "      <td>4809.216960</td>\n",
       "      <td>No</td>\n",
       "      <td>Basic</td>\n",
       "      <td>College</td>\n",
       "      <td>2011-02-18</td>\n",
       "      <td>Employed</td>\n",
       "      <td>M</td>\n",
       "      <td>48029</td>\n",
       "      <td>Suburban</td>\n",
       "      <td>Married</td>\n",
       "      <td>61</td>\n",
       "      <td>7.0</td>\n",
       "      <td>52</td>\n",
       "      <td>0.0</td>\n",
       "      <td>9</td>\n",
       "      <td>Corporate Auto</td>\n",
       "      <td>Corporate L3</td>\n",
       "      <td>Offer3</td>\n",
       "      <td>Agent</td>\n",
       "      <td>292.800000</td>\n",
       "      <td>Four-Door Car</td>\n",
       "      <td>Medsize</td>\n",
       "    </tr>\n",
       "    <tr>\n",
       "      <th>1</th>\n",
       "      <td>KX64629</td>\n",
       "      <td>California</td>\n",
       "      <td>2228.525238</td>\n",
       "      <td>No</td>\n",
       "      <td>Basic</td>\n",
       "      <td>College</td>\n",
       "      <td>2011-01-18</td>\n",
       "      <td>Unemployed</td>\n",
       "      <td>F</td>\n",
       "      <td>0</td>\n",
       "      <td>Suburban</td>\n",
       "      <td>Single</td>\n",
       "      <td>64</td>\n",
       "      <td>3.0</td>\n",
       "      <td>26</td>\n",
       "      <td>0.0</td>\n",
       "      <td>1</td>\n",
       "      <td>Personal Auto</td>\n",
       "      <td>Personal L3</td>\n",
       "      <td>Offer4</td>\n",
       "      <td>Call Center</td>\n",
       "      <td>744.924331</td>\n",
       "      <td>Four-Door Car</td>\n",
       "      <td>Medsize</td>\n",
       "    </tr>\n",
       "    <tr>\n",
       "      <th>2</th>\n",
       "      <td>LZ68649</td>\n",
       "      <td>Washington</td>\n",
       "      <td>14947.917300</td>\n",
       "      <td>No</td>\n",
       "      <td>Basic</td>\n",
       "      <td>Bachelor</td>\n",
       "      <td>2011-02-10</td>\n",
       "      <td>Employed</td>\n",
       "      <td>M</td>\n",
       "      <td>22139</td>\n",
       "      <td>Suburban</td>\n",
       "      <td>Single</td>\n",
       "      <td>100</td>\n",
       "      <td>34.0</td>\n",
       "      <td>31</td>\n",
       "      <td>0.0</td>\n",
       "      <td>2</td>\n",
       "      <td>Personal Auto</td>\n",
       "      <td>Personal L3</td>\n",
       "      <td>Offer3</td>\n",
       "      <td>Call Center</td>\n",
       "      <td>480.000000</td>\n",
       "      <td>SUV</td>\n",
       "      <td>Medsize</td>\n",
       "    </tr>\n",
       "    <tr>\n",
       "      <th>3</th>\n",
       "      <td>XL78013</td>\n",
       "      <td>Oregon</td>\n",
       "      <td>22332.439460</td>\n",
       "      <td>Yes</td>\n",
       "      <td>Extended</td>\n",
       "      <td>College</td>\n",
       "      <td>2011-01-11</td>\n",
       "      <td>Employed</td>\n",
       "      <td>M</td>\n",
       "      <td>49078</td>\n",
       "      <td>Suburban</td>\n",
       "      <td>Single</td>\n",
       "      <td>97</td>\n",
       "      <td>10.0</td>\n",
       "      <td>3</td>\n",
       "      <td>0.0</td>\n",
       "      <td>2</td>\n",
       "      <td>Corporate Auto</td>\n",
       "      <td>Corporate L3</td>\n",
       "      <td>Offer2</td>\n",
       "      <td>Branch</td>\n",
       "      <td>484.013411</td>\n",
       "      <td>Four-Door Car</td>\n",
       "      <td>Medsize</td>\n",
       "    </tr>\n",
       "    <tr>\n",
       "      <th>6</th>\n",
       "      <td>IW72280</td>\n",
       "      <td>California</td>\n",
       "      <td>5035.035257</td>\n",
       "      <td>No</td>\n",
       "      <td>Basic</td>\n",
       "      <td>Doctor</td>\n",
       "      <td>2011-02-14</td>\n",
       "      <td>Employed</td>\n",
       "      <td>F</td>\n",
       "      <td>37405</td>\n",
       "      <td>Urban</td>\n",
       "      <td>Married</td>\n",
       "      <td>63</td>\n",
       "      <td>8.0</td>\n",
       "      <td>99</td>\n",
       "      <td>3.0</td>\n",
       "      <td>4</td>\n",
       "      <td>Corporate Auto</td>\n",
       "      <td>Corporate L2</td>\n",
       "      <td>Offer2</td>\n",
       "      <td>Branch</td>\n",
       "      <td>287.556107</td>\n",
       "      <td>Four-Door Car</td>\n",
       "      <td>Medsize</td>\n",
       "    </tr>\n",
       "    <tr>\n",
       "      <th>...</th>\n",
       "      <td>...</td>\n",
       "      <td>...</td>\n",
       "      <td>...</td>\n",
       "      <td>...</td>\n",
       "      <td>...</td>\n",
       "      <td>...</td>\n",
       "      <td>...</td>\n",
       "      <td>...</td>\n",
       "      <td>...</td>\n",
       "      <td>...</td>\n",
       "      <td>...</td>\n",
       "      <td>...</td>\n",
       "      <td>...</td>\n",
       "      <td>...</td>\n",
       "      <td>...</td>\n",
       "      <td>...</td>\n",
       "      <td>...</td>\n",
       "      <td>...</td>\n",
       "      <td>...</td>\n",
       "      <td>...</td>\n",
       "      <td>...</td>\n",
       "      <td>...</td>\n",
       "      <td>...</td>\n",
       "      <td>...</td>\n",
       "    </tr>\n",
       "    <tr>\n",
       "      <th>10903</th>\n",
       "      <td>SU71163</td>\n",
       "      <td>Arizona</td>\n",
       "      <td>2771.663013</td>\n",
       "      <td>No</td>\n",
       "      <td>Basic</td>\n",
       "      <td>College</td>\n",
       "      <td>2011-01-07</td>\n",
       "      <td>Employed</td>\n",
       "      <td>M</td>\n",
       "      <td>59855</td>\n",
       "      <td>Suburban</td>\n",
       "      <td>Married</td>\n",
       "      <td>74</td>\n",
       "      <td>30.0</td>\n",
       "      <td>82</td>\n",
       "      <td>4.0</td>\n",
       "      <td>1</td>\n",
       "      <td>Personal Auto</td>\n",
       "      <td>Personal L2</td>\n",
       "      <td>Offer2</td>\n",
       "      <td>Branch</td>\n",
       "      <td>355.200000</td>\n",
       "      <td>Two-Door Car</td>\n",
       "      <td>Medsize</td>\n",
       "    </tr>\n",
       "    <tr>\n",
       "      <th>10904</th>\n",
       "      <td>QI63521</td>\n",
       "      <td>Nevada</td>\n",
       "      <td>19228.463620</td>\n",
       "      <td>No</td>\n",
       "      <td>Basic</td>\n",
       "      <td>High School or Below</td>\n",
       "      <td>2011-02-24</td>\n",
       "      <td>Unemployed</td>\n",
       "      <td>M</td>\n",
       "      <td>0</td>\n",
       "      <td>Suburban</td>\n",
       "      <td>Single</td>\n",
       "      <td>187</td>\n",
       "      <td>14.0</td>\n",
       "      <td>32</td>\n",
       "      <td>0.0</td>\n",
       "      <td>2</td>\n",
       "      <td>Personal Auto</td>\n",
       "      <td>Personal L2</td>\n",
       "      <td>Offer1</td>\n",
       "      <td>Branch</td>\n",
       "      <td>897.600000</td>\n",
       "      <td>Luxury SUV</td>\n",
       "      <td>Medsize</td>\n",
       "    </tr>\n",
       "    <tr>\n",
       "      <th>10906</th>\n",
       "      <td>KX53892</td>\n",
       "      <td>Oregon</td>\n",
       "      <td>5259.444853</td>\n",
       "      <td>No</td>\n",
       "      <td>Basic</td>\n",
       "      <td>College</td>\n",
       "      <td>2011-01-06</td>\n",
       "      <td>Employed</td>\n",
       "      <td>F</td>\n",
       "      <td>61146</td>\n",
       "      <td>Urban</td>\n",
       "      <td>Married</td>\n",
       "      <td>65</td>\n",
       "      <td>7.0</td>\n",
       "      <td>68</td>\n",
       "      <td>0.0</td>\n",
       "      <td>6</td>\n",
       "      <td>Personal Auto</td>\n",
       "      <td>Personal L3</td>\n",
       "      <td>Offer2</td>\n",
       "      <td>Branch</td>\n",
       "      <td>273.018929</td>\n",
       "      <td>Four-Door Car</td>\n",
       "      <td>Medsize</td>\n",
       "    </tr>\n",
       "    <tr>\n",
       "      <th>10907</th>\n",
       "      <td>TL39050</td>\n",
       "      <td>Arizona</td>\n",
       "      <td>23893.304100</td>\n",
       "      <td>No</td>\n",
       "      <td>Extended</td>\n",
       "      <td>Bachelor</td>\n",
       "      <td>2011-02-06</td>\n",
       "      <td>Employed</td>\n",
       "      <td>F</td>\n",
       "      <td>39837</td>\n",
       "      <td>Rural</td>\n",
       "      <td>Married</td>\n",
       "      <td>201</td>\n",
       "      <td>11.0</td>\n",
       "      <td>63</td>\n",
       "      <td>0.0</td>\n",
       "      <td>2</td>\n",
       "      <td>Corporate Auto</td>\n",
       "      <td>Corporate L3</td>\n",
       "      <td>Offer1</td>\n",
       "      <td>Web</td>\n",
       "      <td>381.306996</td>\n",
       "      <td>Luxury SUV</td>\n",
       "      <td>Medsize</td>\n",
       "    </tr>\n",
       "    <tr>\n",
       "      <th>10908</th>\n",
       "      <td>WA60547</td>\n",
       "      <td>California</td>\n",
       "      <td>11971.977650</td>\n",
       "      <td>No</td>\n",
       "      <td>Premium</td>\n",
       "      <td>College</td>\n",
       "      <td>2011-02-13</td>\n",
       "      <td>Employed</td>\n",
       "      <td>F</td>\n",
       "      <td>64195</td>\n",
       "      <td>Urban</td>\n",
       "      <td>Divorced</td>\n",
       "      <td>158</td>\n",
       "      <td>0.0</td>\n",
       "      <td>27</td>\n",
       "      <td>4.0</td>\n",
       "      <td>6</td>\n",
       "      <td>Personal Auto</td>\n",
       "      <td>Personal L1</td>\n",
       "      <td>Offer1</td>\n",
       "      <td>Branch</td>\n",
       "      <td>618.288849</td>\n",
       "      <td>SUV</td>\n",
       "      <td>Medsize</td>\n",
       "    </tr>\n",
       "  </tbody>\n",
       "</table>\n",
       "<p>9134 rows × 24 columns</p>\n",
       "</div>"
      ],
      "text/plain": [
       "      customer       state  customer_lifetime_value response  coverage  \\\n",
       "0      DK49336     Arizona              4809.216960       No     Basic   \n",
       "1      KX64629  California              2228.525238       No     Basic   \n",
       "2      LZ68649  Washington             14947.917300       No     Basic   \n",
       "3      XL78013      Oregon             22332.439460      Yes  Extended   \n",
       "6      IW72280  California              5035.035257       No     Basic   \n",
       "...        ...         ...                      ...      ...       ...   \n",
       "10903  SU71163     Arizona              2771.663013       No     Basic   \n",
       "10904  QI63521      Nevada             19228.463620       No     Basic   \n",
       "10906  KX53892      Oregon              5259.444853       No     Basic   \n",
       "10907  TL39050     Arizona             23893.304100       No  Extended   \n",
       "10908  WA60547  California             11971.977650       No   Premium   \n",
       "\n",
       "                  education effective_to_date employmentstatus gender  income  \\\n",
       "0                   College        2011-02-18         Employed      M   48029   \n",
       "1                   College        2011-01-18       Unemployed      F       0   \n",
       "2                  Bachelor        2011-02-10         Employed      M   22139   \n",
       "3                   College        2011-01-11         Employed      M   49078   \n",
       "6                    Doctor        2011-02-14         Employed      F   37405   \n",
       "...                     ...               ...              ...    ...     ...   \n",
       "10903               College        2011-01-07         Employed      M   59855   \n",
       "10904  High School or Below        2011-02-24       Unemployed      M       0   \n",
       "10906               College        2011-01-06         Employed      F   61146   \n",
       "10907              Bachelor        2011-02-06         Employed      F   39837   \n",
       "10908               College        2011-02-13         Employed      F   64195   \n",
       "\n",
       "      location_code marital_status  monthly_premium_auto  \\\n",
       "0          Suburban        Married                    61   \n",
       "1          Suburban         Single                    64   \n",
       "2          Suburban         Single                   100   \n",
       "3          Suburban         Single                    97   \n",
       "6             Urban        Married                    63   \n",
       "...             ...            ...                   ...   \n",
       "10903      Suburban        Married                    74   \n",
       "10904      Suburban         Single                   187   \n",
       "10906         Urban        Married                    65   \n",
       "10907         Rural        Married                   201   \n",
       "10908         Urban       Divorced                   158   \n",
       "\n",
       "       months_since_last_claim  months_since_policy_inception  \\\n",
       "0                          7.0                             52   \n",
       "1                          3.0                             26   \n",
       "2                         34.0                             31   \n",
       "3                         10.0                              3   \n",
       "6                          8.0                             99   \n",
       "...                        ...                            ...   \n",
       "10903                     30.0                             82   \n",
       "10904                     14.0                             32   \n",
       "10906                      7.0                             68   \n",
       "10907                     11.0                             63   \n",
       "10908                      0.0                             27   \n",
       "\n",
       "       number_of_open_complaints  number_of_policies     policy_type  \\\n",
       "0                            0.0                   9  Corporate Auto   \n",
       "1                            0.0                   1   Personal Auto   \n",
       "2                            0.0                   2   Personal Auto   \n",
       "3                            0.0                   2  Corporate Auto   \n",
       "6                            3.0                   4  Corporate Auto   \n",
       "...                          ...                 ...             ...   \n",
       "10903                        4.0                   1   Personal Auto   \n",
       "10904                        0.0                   2   Personal Auto   \n",
       "10906                        0.0                   6   Personal Auto   \n",
       "10907                        0.0                   2  Corporate Auto   \n",
       "10908                        4.0                   6   Personal Auto   \n",
       "\n",
       "             policy renew_offer_type sales_channel  total_claim_amount  \\\n",
       "0      Corporate L3           Offer3         Agent          292.800000   \n",
       "1       Personal L3           Offer4   Call Center          744.924331   \n",
       "2       Personal L3           Offer3   Call Center          480.000000   \n",
       "3      Corporate L3           Offer2        Branch          484.013411   \n",
       "6      Corporate L2           Offer2        Branch          287.556107   \n",
       "...             ...              ...           ...                 ...   \n",
       "10903   Personal L2           Offer2        Branch          355.200000   \n",
       "10904   Personal L2           Offer1        Branch          897.600000   \n",
       "10906   Personal L3           Offer2        Branch          273.018929   \n",
       "10907  Corporate L3           Offer1           Web          381.306996   \n",
       "10908   Personal L1           Offer1        Branch          618.288849   \n",
       "\n",
       "       vehicle_class vehicle_size  \n",
       "0      Four-Door Car      Medsize  \n",
       "1      Four-Door Car      Medsize  \n",
       "2                SUV      Medsize  \n",
       "3      Four-Door Car      Medsize  \n",
       "6      Four-Door Car      Medsize  \n",
       "...              ...          ...  \n",
       "10903   Two-Door Car      Medsize  \n",
       "10904     Luxury SUV      Medsize  \n",
       "10906  Four-Door Car      Medsize  \n",
       "10907     Luxury SUV      Medsize  \n",
       "10908            SUV      Medsize  \n",
       "\n",
       "[9134 rows x 24 columns]"
      ]
     },
     "execution_count": 5,
     "metadata": {},
     "output_type": "execute_result"
    }
   ],
   "source": [
    "clean_data(data)"
   ]
  },
  {
   "cell_type": "code",
   "execution_count": 6,
   "id": "81ed2944",
   "metadata": {},
   "outputs": [
    {
     "data": {
      "text/plain": [
       "True"
      ]
     },
     "execution_count": 6,
     "metadata": {},
     "output_type": "execute_result"
    }
   ],
   "source": [
    "data.isnull().values.any()"
   ]
  },
  {
   "cell_type": "code",
   "execution_count": 7,
   "id": "68cab1d0",
   "metadata": {},
   "outputs": [],
   "source": [
    "data=data.dropna()"
   ]
  },
  {
   "cell_type": "code",
   "execution_count": 8,
   "id": "36609919",
   "metadata": {},
   "outputs": [
    {
     "data": {
      "text/plain": [
       "False"
      ]
     },
     "execution_count": 8,
     "metadata": {},
     "output_type": "execute_result"
    }
   ],
   "source": [
    "data.isnull().values.any()"
   ]
  },
  {
   "cell_type": "code",
   "execution_count": 9,
   "id": "96bdbbfd",
   "metadata": {},
   "outputs": [],
   "source": [
    "# X-y split.\n",
    "X=data.drop('total_claim_amount', axis=1)\n",
    "y=data.total_claim_amount"
   ]
  },
  {
   "cell_type": "code",
   "execution_count": 10,
   "id": "9cf7e8b4",
   "metadata": {},
   "outputs": [],
   "source": [
    "# drop useless columns\n",
    "X=X.drop(columns=['customer', 'effective_to_date'])"
   ]
  },
  {
   "cell_type": "code",
   "execution_count": 11,
   "id": "577e4967",
   "metadata": {},
   "outputs": [
    {
     "name": "stdout",
     "output_type": "stream",
     "text": [
      "(4543, 23) (4543, 8) (4543, 15)\n"
     ]
    }
   ],
   "source": [
    "# numerical and categorical split\n",
    "X_num=X._get_numeric_data()\n",
    "X_cat=X.drop(columns=X_num.columns)\n",
    "# Check data\n",
    "print (X.shape, X_num.shape, X_cat.shape)"
   ]
  },
  {
   "cell_type": "code",
   "execution_count": 12,
   "id": "04a9e70a",
   "metadata": {},
   "outputs": [
    {
     "data": {
      "text/html": [
       "<div>\n",
       "<style scoped>\n",
       "    .dataframe tbody tr th:only-of-type {\n",
       "        vertical-align: middle;\n",
       "    }\n",
       "\n",
       "    .dataframe tbody tr th {\n",
       "        vertical-align: top;\n",
       "    }\n",
       "\n",
       "    .dataframe thead th {\n",
       "        text-align: right;\n",
       "    }\n",
       "</style>\n",
       "<table border=\"1\" class=\"dataframe\">\n",
       "  <thead>\n",
       "    <tr style=\"text-align: right;\">\n",
       "      <th></th>\n",
       "      <th>unnamed:_0</th>\n",
       "      <th>customer_lifetime_value</th>\n",
       "      <th>income</th>\n",
       "      <th>monthly_premium_auto</th>\n",
       "      <th>months_since_last_claim</th>\n",
       "      <th>months_since_policy_inception</th>\n",
       "      <th>number_of_open_complaints</th>\n",
       "      <th>number_of_policies</th>\n",
       "    </tr>\n",
       "  </thead>\n",
       "  <tbody>\n",
       "    <tr>\n",
       "      <th>count</th>\n",
       "      <td>4543.000000</td>\n",
       "      <td>4543.000000</td>\n",
       "      <td>4543.000000</td>\n",
       "      <td>4543.000000</td>\n",
       "      <td>4543.000000</td>\n",
       "      <td>4543.000000</td>\n",
       "      <td>4543.000000</td>\n",
       "      <td>4543.000000</td>\n",
       "    </tr>\n",
       "    <tr>\n",
       "      <th>mean</th>\n",
       "      <td>5540.241250</td>\n",
       "      <td>8033.714059</td>\n",
       "      <td>37453.033238</td>\n",
       "      <td>93.773278</td>\n",
       "      <td>15.111820</td>\n",
       "      <td>48.153863</td>\n",
       "      <td>0.386309</td>\n",
       "      <td>2.980189</td>\n",
       "    </tr>\n",
       "    <tr>\n",
       "      <th>std</th>\n",
       "      <td>3149.146534</td>\n",
       "      <td>6959.529443</td>\n",
       "      <td>30257.399536</td>\n",
       "      <td>35.093661</td>\n",
       "      <td>10.157925</td>\n",
       "      <td>28.146904</td>\n",
       "      <td>0.907553</td>\n",
       "      <td>2.390362</td>\n",
       "    </tr>\n",
       "    <tr>\n",
       "      <th>min</th>\n",
       "      <td>2.000000</td>\n",
       "      <td>1904.000852</td>\n",
       "      <td>0.000000</td>\n",
       "      <td>61.000000</td>\n",
       "      <td>0.000000</td>\n",
       "      <td>0.000000</td>\n",
       "      <td>0.000000</td>\n",
       "      <td>1.000000</td>\n",
       "    </tr>\n",
       "    <tr>\n",
       "      <th>25%</th>\n",
       "      <td>2884.000000</td>\n",
       "      <td>4039.089902</td>\n",
       "      <td>0.000000</td>\n",
       "      <td>69.000000</td>\n",
       "      <td>6.000000</td>\n",
       "      <td>24.000000</td>\n",
       "      <td>0.000000</td>\n",
       "      <td>1.000000</td>\n",
       "    </tr>\n",
       "    <tr>\n",
       "      <th>50%</th>\n",
       "      <td>5549.000000</td>\n",
       "      <td>5846.520588</td>\n",
       "      <td>34455.000000</td>\n",
       "      <td>83.000000</td>\n",
       "      <td>14.000000</td>\n",
       "      <td>47.000000</td>\n",
       "      <td>0.000000</td>\n",
       "      <td>2.000000</td>\n",
       "    </tr>\n",
       "    <tr>\n",
       "      <th>75%</th>\n",
       "      <td>8283.000000</td>\n",
       "      <td>8936.596938</td>\n",
       "      <td>61560.000000</td>\n",
       "      <td>110.000000</td>\n",
       "      <td>23.000000</td>\n",
       "      <td>72.000000</td>\n",
       "      <td>0.000000</td>\n",
       "      <td>4.000000</td>\n",
       "    </tr>\n",
       "    <tr>\n",
       "      <th>max</th>\n",
       "      <td>10908.000000</td>\n",
       "      <td>83325.381190</td>\n",
       "      <td>99961.000000</td>\n",
       "      <td>298.000000</td>\n",
       "      <td>35.000000</td>\n",
       "      <td>99.000000</td>\n",
       "      <td>5.000000</td>\n",
       "      <td>9.000000</td>\n",
       "    </tr>\n",
       "  </tbody>\n",
       "</table>\n",
       "</div>"
      ],
      "text/plain": [
       "         unnamed:_0  customer_lifetime_value        income  \\\n",
       "count   4543.000000              4543.000000   4543.000000   \n",
       "mean    5540.241250              8033.714059  37453.033238   \n",
       "std     3149.146534              6959.529443  30257.399536   \n",
       "min        2.000000              1904.000852      0.000000   \n",
       "25%     2884.000000              4039.089902      0.000000   \n",
       "50%     5549.000000              5846.520588  34455.000000   \n",
       "75%     8283.000000              8936.596938  61560.000000   \n",
       "max    10908.000000             83325.381190  99961.000000   \n",
       "\n",
       "       monthly_premium_auto  months_since_last_claim  \\\n",
       "count           4543.000000              4543.000000   \n",
       "mean              93.773278                15.111820   \n",
       "std               35.093661                10.157925   \n",
       "min               61.000000                 0.000000   \n",
       "25%               69.000000                 6.000000   \n",
       "50%               83.000000                14.000000   \n",
       "75%              110.000000                23.000000   \n",
       "max              298.000000                35.000000   \n",
       "\n",
       "       months_since_policy_inception  number_of_open_complaints  \\\n",
       "count                    4543.000000                4543.000000   \n",
       "mean                       48.153863                   0.386309   \n",
       "std                        28.146904                   0.907553   \n",
       "min                         0.000000                   0.000000   \n",
       "25%                        24.000000                   0.000000   \n",
       "50%                        47.000000                   0.000000   \n",
       "75%                        72.000000                   0.000000   \n",
       "max                        99.000000                   5.000000   \n",
       "\n",
       "       number_of_policies  \n",
       "count         4543.000000  \n",
       "mean             2.980189  \n",
       "std              2.390362  \n",
       "min              1.000000  \n",
       "25%              1.000000  \n",
       "50%              2.000000  \n",
       "75%              4.000000  \n",
       "max              9.000000  "
      ]
     },
     "execution_count": 12,
     "metadata": {},
     "output_type": "execute_result"
    }
   ],
   "source": [
    "# numerical\n",
    "X_num.describe()"
   ]
  },
  {
   "cell_type": "code",
   "execution_count": 13,
   "id": "0f5d8f90",
   "metadata": {},
   "outputs": [
    {
     "data": {
      "text/plain": [
       "(4543, 8)"
      ]
     },
     "execution_count": 13,
     "metadata": {},
     "output_type": "execute_result"
    }
   ],
   "source": [
    "# using standard scaler\n",
    "transformer = StandardScaler() \n",
    "\n",
    "transformer.fit(X_num)\n",
    "\n",
    "x_standardized = transformer.transform(X_num)\n",
    "x_standardized.shape"
   ]
  },
  {
   "cell_type": "code",
   "execution_count": 14,
   "id": "73c6d993",
   "metadata": {
    "scrolled": true
   },
   "outputs": [],
   "source": [
    "#cat_data = pd.get_dummies(X, drop_first=True) # if you need to save the encoding info, this won't do\n",
    "#cat_data"
   ]
  },
  {
   "cell_type": "code",
   "execution_count": 15,
   "id": "c7ed5644",
   "metadata": {},
   "outputs": [
    {
     "data": {
      "text/plain": [
       "OneHotEncoder(drop='first')"
      ]
     },
     "execution_count": 15,
     "metadata": {},
     "output_type": "execute_result"
    }
   ],
   "source": [
    "# One Hot/Label Encoding (categorical)\n",
    "\n",
    "encoder = OneHotEncoder(handle_unknown='error', drop='first')\n",
    "encoder.fit(X_cat)"
   ]
  },
  {
   "cell_type": "code",
   "execution_count": 16,
   "id": "98b9478f",
   "metadata": {},
   "outputs": [
    {
     "data": {
      "text/plain": [
       "array([[0., 0., 0., ..., 0., 1., 0.],\n",
       "       [0., 0., 1., ..., 0., 1., 0.],\n",
       "       [0., 0., 0., ..., 0., 0., 0.],\n",
       "       ...,\n",
       "       [0., 1., 0., ..., 0., 1., 0.],\n",
       "       [0., 0., 1., ..., 0., 1., 0.],\n",
       "       [1., 0., 0., ..., 0., 1., 0.]])"
      ]
     },
     "execution_count": 16,
     "metadata": {},
     "output_type": "execute_result"
    }
   ],
   "source": [
    "encoded = encoder.transform(X_cat).toarray()\n",
    "encoded #.shape"
   ]
  },
  {
   "cell_type": "code",
   "execution_count": 17,
   "id": "20e6ae37",
   "metadata": {},
   "outputs": [
    {
     "data": {
      "text/plain": [
       "[array(['Arizona', 'California', 'Nevada', 'Oregon', 'Washington'],\n",
       "       dtype=object),\n",
       " array(['No', 'Yes'], dtype=object),\n",
       " array(['Basic', 'Extended', 'Premium'], dtype=object),\n",
       " array(['Bachelor', 'College', 'Doctor', 'High School or Below', 'Master'],\n",
       "       dtype=object),\n",
       " array(['Disabled', 'Employed', 'Medical Leave', 'Retired', 'Unemployed'],\n",
       "       dtype=object),\n",
       " array(['F', 'M'], dtype=object),\n",
       " array(['Rural', 'Suburban', 'Urban'], dtype=object),\n",
       " array(['Divorced', 'Married', 'Single'], dtype=object),\n",
       " array(['Corporate Auto', 'Personal Auto', 'Special Auto'], dtype=object),\n",
       " array(['Corporate L1', 'Corporate L2', 'Corporate L3', 'Personal L1',\n",
       "        'Personal L2', 'Personal L3', 'Special L1', 'Special L2',\n",
       "        'Special L3'], dtype=object),\n",
       " array(['Offer1', 'Offer2', 'Offer3', 'Offer4'], dtype=object),\n",
       " array(['Agent', 'Branch', 'Call Center', 'Web'], dtype=object),\n",
       " array(['Four-Door Car', 'Luxury Car', 'Luxury SUV', 'SUV', 'Sports Car',\n",
       "        'Two-Door Car'], dtype=object),\n",
       " array(['Large', 'Medsize', 'Small'], dtype=object),\n",
       " array(['A'], dtype=object)]"
      ]
     },
     "execution_count": 17,
     "metadata": {},
     "output_type": "execute_result"
    }
   ],
   "source": [
    "encoder.categories_"
   ]
  },
  {
   "cell_type": "code",
   "execution_count": 18,
   "id": "b885d84e",
   "metadata": {},
   "outputs": [
    {
     "data": {
      "text/plain": [
       "(4543, 51)"
      ]
     },
     "execution_count": 18,
     "metadata": {},
     "output_type": "execute_result"
    }
   ],
   "source": [
    "# Concat DataFrames\n",
    "X = np.concatenate([X_num, encoded], axis=1)\n",
    "X.shape"
   ]
  },
  {
   "cell_type": "code",
   "execution_count": 19,
   "id": "400f2ae9",
   "metadata": {},
   "outputs": [],
   "source": [
    "# traint-test split\n",
    "X_train, X_test, y_train, y_test = train_test_split(X, y, test_size=0.3, random_state=42)"
   ]
  },
  {
   "cell_type": "code",
   "execution_count": 20,
   "id": "650d720c",
   "metadata": {},
   "outputs": [
    {
     "data": {
      "text/plain": [
       "LinearRegression()"
      ]
     },
     "execution_count": 20,
     "metadata": {},
     "output_type": "execute_result"
    }
   ],
   "source": [
    "model = LinearRegression()\n",
    "model.fit(X_train,y_train)"
   ]
  },
  {
   "cell_type": "code",
   "execution_count": 21,
   "id": "809613ec",
   "metadata": {},
   "outputs": [
    {
     "data": {
      "text/plain": [
       "(1363,)"
      ]
     },
     "execution_count": 21,
     "metadata": {},
     "output_type": "execute_result"
    }
   ],
   "source": [
    "predictions  = model.predict(X_test)\n",
    "predictions.shape"
   ]
  },
  {
   "cell_type": "code",
   "execution_count": 22,
   "id": "575d235e",
   "metadata": {},
   "outputs": [
    {
     "data": {
      "text/plain": [
       "(0.755482172413151, 139.63842768014655, 19498.890484983516)"
      ]
     },
     "execution_count": 22,
     "metadata": {},
     "output_type": "execute_result"
    }
   ],
   "source": [
    "r2_score(y_test, predictions), mean_squared_error(y_test, predictions, squared=False), mean_squared_error(y_test, predictions)"
   ]
  },
  {
   "cell_type": "markdown",
   "id": "04095c49",
   "metadata": {},
   "source": [
    "### Model Validation"
   ]
  },
  {
   "cell_type": "code",
   "execution_count": 23,
   "id": "befb2947",
   "metadata": {},
   "outputs": [],
   "source": [
    "#R2"
   ]
  },
  {
   "cell_type": "code",
   "execution_count": 24,
   "id": "95abf4a8",
   "metadata": {},
   "outputs": [],
   "source": [
    "#MSE"
   ]
  },
  {
   "cell_type": "code",
   "execution_count": 25,
   "id": "7c584452",
   "metadata": {},
   "outputs": [],
   "source": [
    "#RMSE"
   ]
  },
  {
   "cell_type": "code",
   "execution_count": 26,
   "id": "53cf7984",
   "metadata": {},
   "outputs": [],
   "source": [
    "#MAE"
   ]
  }
 ],
 "metadata": {
  "kernelspec": {
   "display_name": "Python 3 (ipykernel)",
   "language": "python",
   "name": "python3"
  },
  "language_info": {
   "codemirror_mode": {
    "name": "ipython",
    "version": 3
   },
   "file_extension": ".py",
   "mimetype": "text/x-python",
   "name": "python",
   "nbconvert_exporter": "python",
   "pygments_lexer": "ipython3",
   "version": "3.9.7"
  }
 },
 "nbformat": 4,
 "nbformat_minor": 5
}
